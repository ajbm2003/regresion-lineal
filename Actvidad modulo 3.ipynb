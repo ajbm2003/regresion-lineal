{
 "cells": [
  {
   "cell_type": "markdown",
   "id": "2893f74d-9014-44ff-8ee9-2c045cc0f564",
   "metadata": {},
   "source": [
    "# Trabajo Práctico: Regresión Lineal Simple\n",
    "\n",
    "**Integrantes:** Milena Mercado Pazos,Ignacio Piquin Villegas, Javier Benavides Merchan  \n",
    "\n",
    "**Descripción:**  \n",
    "1) Actividad 1: Realizada por Milena Mercado Paozos\n",
    "en este Notebook genero un dataset de ejemplo con 100 puntos, donde `y` tiene una relación lineal con `x` más un poco de ruido para simular datos reales.  \n",
    "Después implemento desde cero la función de costo de la regresión lineal simple, que me permite calcular qué tan bien se ajusta una recta (`y = w*x + b`) a los datos.  \n",
    "La idea es ir viendo el error inicial del modelo y prepararme para después calcular los gradientes y entrenar el modelo usando gradiente descendente.  \n",
    "\n",
    "Incluí un gráfico de dispersión para visualizar los datos y comentarios en el código para que se entienda paso a paso lo que hace cada parte.\n"
   ]
  },
  {
   "cell_type": "code",
   "execution_count": 5,
   "id": "97b4ab63-6279-4ee9-89d2-913e4c6c0f90",
   "metadata": {},
   "outputs": [
    {
     "name": "stdout",
     "output_type": "stream",
     "text": [
      "El valor de x del primer ejemplo es 23.13961929800238 y el valor de y es 10.363555953983601\n",
      "La cantidad de ejemplos es 100\n"
     ]
    },
    {
     "data": {
      "image/png": "[encoded data removed]",
      "text/plain": [
       "<Figure size 800x500 with 1 Axes>"
      ]
     },
     "metadata": {},
     "output_type": "display_data"
    }
   ],
   "source": [
    "\n",
    "import numpy as np\n",
    "import math\n",
    "import matplotlib.pyplot as plt\n",
    "\n",
    "m = 100   # nro de ejemplos\n",
    "\n",
    "# Semilla para reproducibilidad\n",
    "np.random.seed(10)\n",
    "\n",
    "# Variable independiente (x): valores aleatorios entre 0 y 30\n",
    "x_train = 30 * np.random.rand(m, 1)\n",
    "\n",
    "# Variable dependiente (y): relacionada linealmente con x más un poco de ruido\n",
    "y_train = 0.4 * x_train + np.random.randn(m, 1)\n",
    "\n",
    "# Convertimos a vectores \n",
    "x_train = x_train.flatten()\n",
    "y_train = y_train.flatten()\n",
    "\n",
    "# Verificamos\n",
    "print(f\"El valor de x del primer ejemplo es {x_train[0]} y el valor de y es {y_train[0]}\")\n",
    "print(f\"La cantidad de ejemplos es {x_train.shape[0]}\")\n",
    "\n",
    "# Graficar dataset \n",
    "plt.figure(figsize=(8,5))\n",
    "plt.scatter(x_train, y_train)\n",
    "plt.title(\"Gráfico de dispersión del dataset generado aleatoriamente\")\n",
    "plt.ylabel('y')\n",
    "plt.xlabel('x')\n",
    "plt.show()\n"
   ]
  },
  {
   "cell_type": "code",
   "execution_count": null,
   "id": "8c1bf0fc-1d10-41ea-a980-cabfebfdbdf5",
   "metadata": {},
   "outputs": [
    {
     "name": "stdout",
     "output_type": "stream",
     "text": [
      "22.98893957959641\n"
     ]
    }
   ],
   "source": [
    "def calcular_costo(x, y, w, b): \n",
    "    \"\"\"\n",
    "    Calcula el MSE (Mean Squared Error) que presenta un modelo dado en relación a los datos. \n",
    "    \n",
    "    Args:\n",
    "      x: arreglo con los valores del feature x para cada ejemplo\n",
    "      y: arreglo con los valores del label y para cada ejemplo\n",
    "      w,b: parámetros del modelo conocido (numéricos)\n",
    "    \n",
    "    Objetivo:\n",
    "        La función debe retornar el costo del modelo dado por parámetro\n",
    "    \"\"\"\n",
    "    m = x.shape[0]  # cantidad de ejemplos\n",
    "    cost_sum = 0\n",
    "    \n",
    "    # recorremos cada ejemplo\n",
    "    for i in range(m):\n",
    "        # 1.a calcular f(x)\n",
    "        f_x = w * x[i] + b\n",
    "        \n",
    "        # 1.b calcular el costo cuadratico\n",
    "        cost = (f_x - y[i])**2\n",
    "        \n",
    "        # 1.c acumular\n",
    "        cost_sum += cost\n",
    "    \n",
    "    # 2. costo promedio\n",
    "    total_cost = (1/(2*m)) * cost_sum\n",
    "    \n",
    "    return total_cost\n",
    "    \n",
    "print(calcular_costo(x_train, y_train, w=0, b=0))\n",
    "\n"
   ]
  },
  {
   "cell_type": "markdown",
   "id": "f2ac1e62",
   "metadata": {},
   "source": [
    "### <font color='red'>**Actividad 3 (realizada por Ignacio Piquin Villegas):**</font>\n",
    "\n",
    "\n",
    "Desarrollar una función que calcule el gradiente descendente, es decir, que actualice los valores de w y de b utilizando la función desarrollada en la actividad anterior."
   ]
  },
  {
   "cell_type": "code",
   "execution_count": null,
   "id": "2630f58e",
   "metadata": {},
   "outputs": [],
   "source": [
    "def gradiente_descendente(x, y, max_iterations, alpha): \n",
    "    \"\"\"\n",
    "    Calcula el gradiente descendente para encontrar los valores óptimos de w y b.\n",
    "    \n",
    "    Args:\n",
    "      x: arreglo con los valores del feature x para cada ejemplo\n",
    "      y: arreglo con los valores del label y para cada ejemplo\n",
    "      max_iterations: máximo de iteraciones\n",
    "      alpha: learning rate\n",
    "      \n",
    "    Returns:\n",
    "      w: valor de w luego de converger\n",
    "      b: valor de b luego de converger\n",
    "      J_history (List): valores históricos del costo (para graficar)\n",
    "      wb_history (list): valores históricos de w y de b (para graficar)\n",
    "      \"\"\"\n",
    "        \n",
    "    # Estos arreglos sirven para ir guardando los valores del costo y de los parámetros para graficarlos al final\n",
    "    J_hist = []\n",
    "    wb_hist = []\n",
    "    \n",
    "    w = 0\n",
    "    b = 0\n",
    "    \n",
    "    # Repetir hasta el máximo de iteraciones\n",
    "    for i in range(max_iterations):\n",
    "        \n",
    "        # Calcular las derivadas\n",
    "        dj_w, dj_b = calcular_derivadas(x, y, w, b)     \n",
    "\n",
    "        # Actualizar los valores de w y b             \n",
    "        w =  w - alpha * dj_w\n",
    "        \n",
    "        b = b - alpha * dj_b\n",
    "        \n",
    "        costo = calcular_costo(x, y, w , b)\n",
    "        \n",
    "        # Guardar el costo y los parámetros de la iteración\n",
    "        J_hist.append(costo)\n",
    "        wb_hist.append([w,b])\n",
    "            \n",
    "        # Imprime el costo cada ~10% del total de iteraciones.\n",
    "        if i% math.ceil(max_iterations/10) == 0:\n",
    "            print(f\"Iteración {i:4}: Cost {J_hist[-1]:0.2e} \", f\"w: {w: 0.3e}, b:{b: 0.5e}\")\n",
    " \n",
    "    # retorna w, b y los arreglos con los costos y parámetros de cada iteración\n",
    "    return w, b, J_hist, wb_hist "
   ]
  }
 ],
 "metadata": {
  "kernelspec": {
   "display_name": "Python 3",
   "language": "python",
   "name": "python3"
  },
  "language_info": {
   "codemirror_mode": {
    "name": "ipython",
    "version": 3
   },
   "file_extension": ".py",
   "mimetype": "text/x-python",
   "name": "python",
   "nbconvert_exporter": "python",
   "pygments_lexer": "ipython3",
   "version": "3.13.5"
  }
 },
 "nbformat": 4,
 "nbformat_minor": 5
}
